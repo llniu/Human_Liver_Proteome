{
 "cells": [
  {
   "cell_type": "markdown",
   "metadata": {},
   "source": [
    "## Import statements"
   ]
  },
  {
   "cell_type": "code",
   "execution_count": null,
   "metadata": {},
   "outputs": [],
   "source": [
    "import pandas as pd\n",
    "import numpy as np\n",
    "import matplotlib.pyplot as plt\n",
    "import seaborn as sns\n",
    "\n",
    "from sklearn.decomposition import PCA\n",
    "from math import log\n",
    "import ast\n",
    "import statsmodels.stats.multitest as multi\n",
    "import pingouin as pg\n",
    "\n",
    "from matplotlib_venn import venn3\n",
    "import holoviews as hv\n",
    "from holoviews import opts, dim\n",
    "import holoviews.plotting.mpl\n",
    "import itertools as it"
   ]
  },
  {
   "cell_type": "code",
   "execution_count": null,
   "metadata": {},
   "outputs": [],
   "source": [
    "from src.functions import read_raw_protein_file, extract_datamatrix, rename_experiment, extract_datamatrix_DIA\n",
    "from src.functions import extract_datamatrix_copynumber, extract_Parameters, imputation_normal_distribution\n",
    "from src.functions import calculate_quartile_numbers, intersection, return_kegg_coverage, calculate_pathway_percentage"
   ]
  },
  {
   "cell_type": "markdown",
   "metadata": {},
   "source": [
    "## Dataset pre-processing"
   ]
  },
  {
   "cell_type": "code",
   "execution_count": null,
   "metadata": {},
   "outputs": [],
   "source": [
    "## ID mapping\n",
    "ID_perseus = pd.read_csv('annotations/Perseus_annotation_file.csv')\n",
    "IDmapping_Perseus_UniprotAC_to_Genenames = dict(zip(ID_perseus['Protein ID'], ID_perseus['Gene names']))\n",
    "IDmapping_Perseus_UniprotAC_to_Proteinnames = dict(zip(ID_perseus['Protein ID'], ID_perseus['Protein names']))\n",
    "IDmapping_Perseus_Genenames_to_Proteinnames = dict(zip(ID_perseus['Gene names'], ID_perseus['Protein names']))\n",
    "IDmapping_Perseus_UniprotAC_to_Genename_UniID = dict(zip(ID_perseus['Protein ID'], ID_perseus['Genename_ProteinID']))\n",
    "\n",
    "## tissue specificity RNA HPA\n",
    "tissue_specificity = pd.read_csv('annotations/tissue_specificity_RNA_HPA.csv')\n",
    "mapping_tissuespecificity_tissue = dict(zip(tissue_specificity['Gene'], tissue_specificity['RNA TS TPM']))\n",
    "\n",
    "labelfile = pd.read_csv('annotations/Experiment annotation file.csv')\n",
    "labelfile_pcc = pd.read_csv('datasets/PCC/Annotation_file_PCC.csv')"
   ]
  },
  {
   "cell_type": "code",
   "execution_count": null,
   "metadata": {},
   "outputs": [],
   "source": [
    "## Datasets\n",
    "ProteinGroups = 'datasets/Atlas/ProteinGroups_minratio2.txt'\n",
    "ProteinGroups_copynumber = 'datasets/Atlas/proteinGroups_ratio2_10528_copynumber.txt'\n",
    "ProteinGroups_pcc = 'datasets/PCC/Proteins_20200803_094937_HLAtlas_PrimaryCellCulture_v14_Report.csv'\n",
    "Copynumber_overview = 'datasets/Atlas/proteinGroups_ratio2_10528_copynumber_overview.txt'\n",
    "columns_reorder = pd.read_csv('annotations/column_reorder.csv')['reorder'].to_list()\n",
    "celltypes = labelfile.loc[labelfile['Label5']=='Primary_cell_types']['Label4'].to_list()\n",
    "grouping1 = dict(zip(labelfile['Label4'], labelfile['Label6']))"
   ]
  },
  {
   "cell_type": "markdown",
   "metadata": {},
   "source": [
    "#### LFQ intensity dataset pre-processing"
   ]
  },
  {
   "cell_type": "code",
   "execution_count": null,
   "metadata": {},
   "outputs": [],
   "source": [
    "data_lfq = extract_datamatrix(ProteinGroups)\n",
    "data_lfq = data_lfq.rename(mapper = dict(zip(labelfile['Name'], labelfile['Label4'])), axis = 1)\n",
    "data_lfq = data_lfq[columns_reorder].dropna(how = 'all')\n",
    "data_lfq.index.name = 'Protein ID'\n",
    "data_lfq_log10 = np.log10(data_lfq)\n",
    "data_lfq_log10_impute = imputation_normal_distribution(data_lfq_log10)"
   ]
  },
  {
   "cell_type": "code",
   "execution_count": null,
   "metadata": {},
   "outputs": [],
   "source": [
    "## LFQ intensity dataset getting median values\n",
    "col_to_keep = ['Liver', 'HepA', 'PorV', 'hHEP', 'hLSEC', 'hKC', 'hHSC']\n",
    "data_lfq_median = data_lfq.groupby(grouping1, axis = 1).median()[col_to_keep]\n",
    "data_lfq_log10_median = data_lfq_log10.groupby(grouping1, axis = 1).median()[col_to_keep]"
   ]
  },
  {
   "cell_type": "markdown",
   "metadata": {},
   "source": [
    "#### Protein copy number dataset pre-processing"
   ]
  },
  {
   "cell_type": "code",
   "execution_count": null,
   "metadata": {},
   "outputs": [],
   "source": [
    "data_cpno = extract_datamatrix_copynumber(ProteinGroups_copynumber)\n",
    "data_cpno = data_cpno.iloc[:, 0:34].astype(float)\n",
    "data_cpno = data_cpno.rename(mapper = dict(zip(labelfile['Name_copynumber'], labelfile['Label4'])), axis = 1)\n",
    "data_cpno = data_cpno[columns_reorder].dropna(how = 'all')\n",
    "data_cpno.index.name = 'Protein ID'\n",
    "data_cpno_log10 = np.log10(data_cpno)\n",
    "data_cpno_median = data_cpno.groupby(grouping1, axis = 1).median()[col_to_keep]\n",
    "data_cpno_log10_median = data_cpno_log10.groupby(grouping1, axis = 1).median()[col_to_keep]"
   ]
  },
  {
   "cell_type": "markdown",
   "metadata": {},
   "source": [
    "#### Primary cell culture experiment dataset pre-processing"
   ]
  },
  {
   "cell_type": "code",
   "execution_count": null,
   "metadata": {},
   "outputs": [],
   "source": [
    "Report_pcc = pd.read_csv(ProteinGroups_pcc)\n",
    "experimental_columns = labelfile_pcc['Sample ID'].tolist()\n",
    "col_tokeep = ['Protein ID', 'Gene names', 'PG.ProteinDescriptions'] + experimental_columns\n",
    "data_pcc_raw = extract_datamatrix_DIA(Report_pcc, labelfile=labelfile_pcc)[col_tokeep]\n",
    "IDmapping_pcc_UniprotID_to_Genename = dict(zip(data_pcc_raw['Protein ID'], data_pcc_raw['Gene names']))\n",
    "IDmapping_pcc_UniprotID_to_ProteinName = dict(zip(data_pcc_raw['Protein ID'], data_pcc_raw['PG.ProteinDescriptions']))\n",
    "data_pcc_raw = data_pcc_raw.set_index('Protein ID').drop(['Gene names','PG.ProteinDescriptions'] , axis = 1).astype(np.number)\n",
    "data_pcc_raw.columns = pd.MultiIndex.from_tuples(zip(labelfile_pcc['Label3'], labelfile_pcc['Sample ID']))\n",
    "data_pcc_filtered = data_pcc_raw.dropna(how='all')\n",
    "data_pcc_log2 = np.log2(data_pcc_filtered)\n",
    "data_pcc_log2_impute = imputation_normal_distribution(data_pcc_log2)"
   ]
  },
  {
   "cell_type": "code",
   "execution_count": null,
   "metadata": {},
   "outputs": [],
   "source": [
    "data_pcc_raw_supp = data_pcc_raw.copy()\n",
    "data_pcc_raw_supp['Gene name'] = data_pcc_raw_supp.index.map(IDmapping_pcc_UniprotID_to_Genename)\n",
    "data_pcc_raw_supp['Protein name'] = data_pcc_raw_supp.index.map(IDmapping_pcc_UniprotID_to_ProteinName)"
   ]
  },
  {
   "cell_type": "markdown",
   "metadata": {},
   "source": [
    "#### Importing molecular weight data"
   ]
  },
  {
   "cell_type": "code",
   "execution_count": null,
   "metadata": {},
   "outputs": [],
   "source": [
    "MW = pd.read_csv(ProteinGroups_copynumber, sep ='\\t', low_memory=False)[['Majority protein IDs', 'Mol. weight [kDa]']][1:]\n",
    "MW['Mol. weight [kDa]'] = MW['Mol. weight [kDa]'].astype(float)\n",
    "MW['Protein ID']= MW['Majority protein IDs'].str.split(';').str[0];"
   ]
  },
  {
   "cell_type": "markdown",
   "metadata": {},
   "source": [
    "#### Patient sample dataset pre-processing"
   ]
  },
  {
   "cell_type": "code",
   "execution_count": null,
   "metadata": {},
   "outputs": [],
   "source": [
    "annotation_patients = pd.read_csv('datasets/Patients/PatientSamples_annotation_file.csv')\n",
    "data_patients = pd.read_csv('datasets/Patients/PatientSamples_proteome.csv')\n",
    "data_patients['Protein ID']=data_patients['Protein IDs'].str.split(';').str[0]\n",
    "data_patients_processed = data_patients.drop(['Protein IDs', 'Gene names'], axis=1)\n",
    "IDmapping_patients_UniprotID_to_GeneName=dict(zip(data_patients_processed['Protein ID'], data_patients_processed['Gene name']))"
   ]
  },
  {
   "cell_type": "code",
   "execution_count": null,
   "metadata": {},
   "outputs": [],
   "source": [
    "data_patients_long = data_patients_processed.melt(id_vars=['Gene name', 'Protein ID'], var_name='Sample ID', value_name='Intensity [Log2]')\n",
    "data_patients_long['grouping']=data_patients_long['Sample ID'].map(dict(zip(annotation_patients['Sample ID'], annotation_patients['Grouping'])))\n",
    "for variate in ['BMI', 'age', 'gender']:\n",
    "    dict_variate = dict(zip(annotation_patients['Sample ID'], annotation_patients[variate]))\n",
    "    data_patients_long[variate]=data_patients_long['Sample ID'].map(dict_variate)\n",
    "data_patients_long['obesity']=np.where(data_patients_long['BMI']>30, 1, 0)"
   ]
  },
  {
   "cell_type": "markdown",
   "metadata": {},
   "source": [
    "## Figure 1"
   ]
  },
  {
   "cell_type": "markdown",
   "metadata": {},
   "source": [
    "#### Depth "
   ]
  },
  {
   "cell_type": "code",
   "execution_count": null,
   "metadata": {},
   "outputs": [],
   "source": [
    "depth_pg = data_lfq.groupby(dict(zip(labelfile['Label4'], labelfile['Label5'])), axis = 1).median().count()\n",
    "depth_pg['total'] = data_lfq.shape[0]\n",
    "fig, ax = plt.subplots(figsize = (4,4))\n",
    "plt.bar(x = depth_pg.index, height = depth_pg, width = 0.4, edgecolor= 'black', facecolor = 'steelblue')\n",
    "for i in np.arange(4):\n",
    "    plt.annotate(depth_pg.iloc[i], [depth_pg.index[i], depth_pg.iloc[i]])\n",
    "plt.ylabel('Protein groups')\n",
    "plt.xticks(rotation = 20)\n",
    "plt.title('Proteome depth');"
   ]
  },
  {
   "cell_type": "markdown",
   "metadata": {},
   "source": [
    "#### Abundance"
   ]
  },
  {
   "cell_type": "code",
   "execution_count": null,
   "metadata": {},
   "outputs": [],
   "source": [
    "fig, ax = plt.subplots(figsize = (4, 4))\n",
    "df = data_lfq_log10_median\n",
    "df['Gene name']=df.index.map(IDmapping_Perseus_UniprotAC_to_Genenames)\n",
    "top_50_dict = {}\n",
    "for i in ['Liver', 'HepA', 'PorV', 'hHEP', 'hLSEC', 'hKC', 'hHSC']:\n",
    "    top_50=df.sort_values(by=i, ascending=False)['Gene name'][:50].tolist()\n",
    "    top_50_dict[i]=top_50\n",
    "    y = sorted(df[[i]].dropna().reset_index()[i])[::-1]\n",
    "    plt.plot(y)\n",
    "    plt.legend(labels = df.columns)\n",
    "plt.ylabel('LFQ intensity [Log10]')\n",
    "plt.xlabel('Abundance rank')\n",
    "plt.title('Abundance rank');"
   ]
  },
  {
   "cell_type": "markdown",
   "metadata": {},
   "source": [
    "#### PCA of all samples "
   ]
  },
  {
   "cell_type": "code",
   "execution_count": null,
   "metadata": {},
   "outputs": [],
   "source": [
    "df_PCA = data_lfq_log10_impute.rename(mapper = dict(zip(labelfile['Label4'], labelfile['Label3'])), axis = 1)\n",
    "df_PCA = df_PCA.rename_axis('Sample type', axis = 1)\n",
    "df = df_PCA.T.reset_index()\n",
    "features = df.columns[1:]"
   ]
  },
  {
   "cell_type": "code",
   "execution_count": null,
   "metadata": {},
   "outputs": [],
   "source": [
    "x=df.loc[:, features].values\n",
    "y=df.loc[:, 'Sample type'].values\n",
    "pca = PCA(n_components=2)\n",
    "principalComponents = pca.fit_transform(x)\n",
    "principalDf = pd.DataFrame(data = principalComponents\n",
    "             , columns = ['principal component 1', 'principal component 2'])\n",
    "finalDf = pd.concat([principalDf, df['Sample type']], axis = 1)\n",
    "PC1= pca.explained_variance_ratio_[0]\n",
    "PC2= pca.explained_variance_ratio_[1]\n",
    "PC1 = \"{:.1%}\".format(PC1)\n",
    "PC2 = \"{:.1%}\".format(PC2)"
   ]
  },
  {
   "cell_type": "code",
   "execution_count": null,
   "metadata": {},
   "outputs": [],
   "source": [
    "fig, ax = plt.subplots(figsize = (4,4))\n",
    "ax.set_xlabel('Principal Component 1 ('+ str(PC1) + ')')\n",
    "ax.set_ylabel('Principal Component 2 ('+ str(PC2) + ')')\n",
    "ax.set_title('Principal component analysis')\n",
    "\n",
    "targets = df['Sample type'].unique()\n",
    "for target in targets:\n",
    "    indicesToKeep = finalDf['Sample type'] == target\n",
    "    ax.scatter(finalDf.loc[indicesToKeep, 'principal component 1']\n",
    "               , finalDf.loc[indicesToKeep, 'principal component 2']\n",
    "               , cmap =  'set3'\n",
    "               , s = 80, edgecolors='black', alpha=0.7)\n",
    "ax.legend(targets, bbox_to_anchor = [1.05, 0.8], framealpha=0.1)\n",
    "ax.grid()"
   ]
  },
  {
   "cell_type": "markdown",
   "metadata": {},
   "source": [
    "#### Kegg pathway coverage"
   ]
  },
  {
   "cell_type": "code",
   "execution_count": null,
   "metadata": {},
   "outputs": [],
   "source": [
    "## Protein coding gene and keggID annotated from Perseus\n",
    "df_pcg = pd.read_csv('annotations/Kegg/gene list_Perseus_keggID_18836.csv')[1:]\n",
    "## kegg pathway ID and geneID downloaded from Kegg\n",
    "kegg_pathway_gene = pd.read_csv('annotations/Kegg/kegg_pathway_genes.csv')\n",
    "## kegg pathway ID and pathway name downloaded from Kegg\n",
    "pathwayID= pd.read_csv('annotations/Kegg/keggPathwayID.csv', names=['pathwayID', 'pathwayName'])\n",
    "IDmapping_keggID_to_Genesymbol= dict(zip(df_pcg['keggID'], df_pcg['Gene name']))\n",
    "## protein coding genes keggID\n",
    "proteincodinggenes = df_pcg['Gene name']"
   ]
  },
  {
   "cell_type": "code",
   "execution_count": null,
   "metadata": {},
   "outputs": [],
   "source": [
    "pathways= pd.merge(kegg_pathway_gene, pathwayID, on='pathwayID')\n",
    "pathways['Gene names']= pathways['geneID'].map(IDmapping_keggID_to_Genesymbol.get)\n",
    "pathways = pathways.applymap(lambda x: str(x).replace(' - Homo sapiens (human)', ''))\n",
    "\n",
    "pathway_dict={}\n",
    "for i in range(pathways.shape[0]):\n",
    "    current_key = pathways.iloc[i]['pathwayName']\n",
    "    current_value = pathways.iloc[i]['Gene names']\n",
    "    pathway_dict.setdefault(current_key, [])\n",
    "    pathway_dict[current_key].append(current_value)\n",
    "pathway_dict_pathways = list(pathway_dict.keys())\n",
    "pathway_dict_genes = list(pathway_dict.values())\n",
    "\n",
    "pcg_dict = {}\n",
    "for i in range(len(pathway_dict)):\n",
    "    pcg_dict[pathway_dict_pathways[i]] = list(set(pathway_dict_genes[i]).intersection(set(proteincodinggenes)))\n",
    "df = data_lfq_log10_median.copy()\n",
    "df['Gene name'] = df.index.map(IDmapping_Perseus_UniprotAC_to_Genenames)\n",
    "df = df.set_index('Gene name')\n",
    "kegg_coverage = return_kegg_coverage(df, pcg_dict, pathway_dict=pathway_dict).set_index('pathways', drop = True)\n",
    "kegg_coverage = kegg_coverage.sort_values(by = 'percentage of covered genesall')"
   ]
  },
  {
   "cell_type": "code",
   "execution_count": null,
   "metadata": {},
   "outputs": [],
   "source": [
    "df = kegg_coverage\n",
    "fig, ax=plt.subplots(figsize=(4,4))\n",
    "y=np.arange(df.shape[0])\n",
    "width = df['percentage of covered genesall']\n",
    "ax.grid(ls='dashed', color= 'black', alpha=0.5)\n",
    "plt.barh(y, width, height = 1, edgecolor = 'lightblue')\n",
    "plt.title('KEGG coverage')\n",
    "plt.xlabel('Coverage rate')\n",
    "plt.ylabel('Pathways');"
   ]
  },
  {
   "cell_type": "markdown",
   "metadata": {},
   "source": [
    "## Figure 2"
   ]
  },
  {
   "cell_type": "markdown",
   "metadata": {},
   "source": [
    "#### Venn between tissue types"
   ]
  },
  {
   "cell_type": "code",
   "execution_count": null,
   "metadata": {},
   "outputs": [],
   "source": [
    "df = data_lfq_log10_median.copy()\n",
    "tissue = ['HepA', 'PorV', 'Liver']\n",
    "df_tissue = df[tissue].dropna(how = 'all')"
   ]
  },
  {
   "cell_type": "markdown",
   "metadata": {},
   "source": [
    "#### Reviewer question: what is the nature of the proteins 'unique' to HepA and PorV?"
   ]
  },
  {
   "cell_type": "code",
   "execution_count": null,
   "metadata": {},
   "outputs": [],
   "source": [
    "unique_in_vessels_proteinids = df_tissue[(df_tissue['Liver'].isnull()) & (df_tissue['HepA'].notnull()) & (df_tissue['PorV'].notnull())].index\n",
    "unique_in_eithervessel_proteinids= df_tissue[df_tissue['Liver'].isnull()].index\n",
    "unique_in_vessels_genenames = [IDmapping_Perseus_UniprotAC_to_Genenames[i] for i in unique_in_vessels_proteinids]\n",
    "unique_in_vessles_proteinids_rank = df_tissue.sort_values(by='HepA', ascending = False).assign(rank_hepa = np.arange(df_tissue.shape[0])).loc[unique_in_vessels_proteinids]['rank_hepa']"
   ]
  },
  {
   "cell_type": "code",
   "execution_count": null,
   "metadata": {},
   "outputs": [],
   "source": [
    "fig, ax = plt.subplots(figsize = (4, 4))\n",
    "v = venn3(subsets = [set(df_tissue[i].dropna().index) for i in df_tissue.columns], set_labels=tissue, alpha = 0.3)\n",
    "print(df_tissue.count())"
   ]
  },
  {
   "cell_type": "markdown",
   "metadata": {},
   "source": [
    "#### Cumulative abundance tissue types"
   ]
  },
  {
   "cell_type": "code",
   "execution_count": null,
   "metadata": {},
   "outputs": [],
   "source": [
    "data = data_lfq_median.copy()\n",
    "df_new = pd.DataFrame(index = data.index)\n",
    "for column in data.columns:\n",
    "    sorted_column = data[[column]].sort_values(by = column, ascending = False)\n",
    "    cum_column = np.cumsum(sorted_column)    \n",
    "    df_new['cum_' + column] = cum_column/cum_column.max()"
   ]
  },
  {
   "cell_type": "code",
   "execution_count": null,
   "metadata": {},
   "outputs": [],
   "source": [
    "data = df_new\n",
    "fig, ax = plt.subplots(figsize = (10, 4), squeeze = False)\n",
    "plt.subplots_adjust(wspace = 0.3)\n",
    "j = 1\n",
    "for i in ['cum_Liver', 'cum_HepA', 'cum_PorV']:\n",
    "    x = np.arange(data.shape[0])\n",
    "    y = data.sort_values(by = i)[i]\n",
    "    x0 = x[:10]\n",
    "    y0 = y[:10]\n",
    "    plt.subplot(1, 3, j)\n",
    "    plt.plot(x, y)\n",
    "    plt.plot(x0, y0, 'ro')\n",
    "    plt.title(i.strip('cum_'))\n",
    "    plt.ylabel('Cumulative abundance [%]')\n",
    "    plt.ylim(-0.05, 1.05)\n",
    "    plt.yticks([0, 0.25, 0.5, 0.75, 1])\n",
    "    plt.xticks(ticks=[0, 2500, 5000, 7500])\n",
    "    j += 1\n",
    "    annotations = calculate_quartile_numbers(data, i)\n",
    "    top10=data.sort_values(by=i).index[:10]\n",
    "    top10_gene = [IDmapping_Perseus_UniprotAC_to_Genenames[a] for a in top10][::-1]\n",
    "    for i in np.arange(10):\n",
    "        plt.text(x=1000, y=0.05+0.05*i, s= top10_gene[i])\n",
    "    for b in np.arange(1, 5):\n",
    "        plt.annotate(xy=(5200, 0.05*b), s= 'Q'+str(b)+':'+str(annotations[b]))\n",
    "plt.savefig('figures/Cumulative_tissuetypes.pdf')"
   ]
  },
  {
   "cell_type": "markdown",
   "metadata": {},
   "source": [
    "#### Principal component analysis of tissue types"
   ]
  },
  {
   "cell_type": "code",
   "execution_count": null,
   "metadata": {},
   "outputs": [],
   "source": [
    "tissue_cls = ['HepA', 'PorV', 'Liver', 'Cell_lines']\n",
    "df_PCA_t = df_PCA[tissue_cls]\n",
    "df = df_PCA_t.T.reset_index()\n",
    "features = df.columns[1:]"
   ]
  },
  {
   "cell_type": "code",
   "execution_count": null,
   "metadata": {},
   "outputs": [],
   "source": [
    "x=df.loc[:, features].values\n",
    "y=df.loc[:, 'Sample type'].values\n",
    "pca = PCA(n_components=2)\n",
    "principalComponents = pca.fit_transform(x)\n",
    "principalDf = pd.DataFrame(data = principalComponents\n",
    "             , columns = ['principal component 1', 'principal component 2'])\n",
    "finalDf = pd.concat([principalDf, df['Sample type']], axis = 1)\n",
    "PC1= pca.explained_variance_ratio_[0]\n",
    "PC2= pca.explained_variance_ratio_[1]\n",
    "PC1 = \"{:.1%}\".format(PC1)\n",
    "PC2 = \"{:.1%}\".format(PC2)"
   ]
  },
  {
   "cell_type": "code",
   "execution_count": null,
   "metadata": {},
   "outputs": [],
   "source": [
    "d = pca.components_.T * np.sqrt(pca.explained_variance_)\n",
    "\n",
    "df_features=pd.DataFrame(d)\n",
    "df_features.columns=['loading_PC1', 'loading_PC2']\n",
    "ID=list(df.T.index[1:])\n",
    "df_features['Protein IDs']=ID\n",
    "df_features['Gene names']=df_features['Protein IDs'].map(IDmapping_Perseus_UniprotAC_to_Genenames.get)"
   ]
  },
  {
   "cell_type": "code",
   "execution_count": null,
   "metadata": {},
   "outputs": [],
   "source": [
    "fig, (ax1, ax2) = plt.subplots(1, 2, figsize = (8, 4))\n",
    "plt.subplots_adjust(wspace = 0.3)\n",
    "ax1.set_xlabel('Principal Component 1 ('+ str(PC1) + ')')\n",
    "ax1.set_ylabel('Principal Component 2 ('+ str(PC2) + ')')\n",
    "ax1.set_title('Principal component analysis')\n",
    "targets = df['Sample type'].unique()\n",
    "for target in targets:\n",
    "    indicesToKeep = finalDf['Sample type'] == target\n",
    "    ax1.scatter(finalDf.loc[indicesToKeep, 'principal component 1']\n",
    "               , finalDf.loc[indicesToKeep, 'principal component 2']\n",
    "               , cmap =  'set3'\n",
    "               , s = 80, edgecolors='black')\n",
    "ax1.legend(targets, framealpha=0.1)\n",
    "\n",
    "loading = pca.components_.T * np.sqrt(pca.explained_variance_)\n",
    "ax2.scatter(loading[:, 0], loading[:, 1], edgecolors = 'white', color = 'steelblue')\n",
    "ax2.set_xlabel('PC1')\n",
    "ax2.set_ylabel('PC2');"
   ]
  },
  {
   "cell_type": "markdown",
   "metadata": {},
   "source": [
    "#### Reviewer question: where are blood proteins on the loading plot, do they contribute to the seperation between cell lines and liver tissues?"
   ]
  },
  {
   "cell_type": "code",
   "execution_count": null,
   "metadata": {},
   "outputs": [],
   "source": [
    "blood_proteins = ['ALB', 'APOA1', 'HBA1', 'HBB', 'A2M', \n",
    "                  'APOA1', 'APOA4','APOA2',\n",
    "                 'IGHG4', 'IGHG1', 'IGHG2', 'IGHG3','IGHA1', 'IGHM',\n",
    "                 'A1AT', 'HP']"
   ]
  },
  {
   "cell_type": "code",
   "execution_count": null,
   "metadata": {},
   "outputs": [],
   "source": [
    "df_test=df_features.copy()\n",
    "df_test['blood protein']=np.where(df_test['Gene names'].isin(blood_proteins), 1, 0)"
   ]
  },
  {
   "cell_type": "code",
   "execution_count": null,
   "metadata": {},
   "outputs": [],
   "source": [
    "fig, ax=plt.subplots(figsize=(4,4))\n",
    "sns.scatterplot(x='loading_PC1', y='loading_PC2', hue='blood protein', data=df_test,\n",
    "               legend=False)\n",
    "sns.scatterplot(x='loading_PC1', y='loading_PC2', hue='blood protein', data=df_test[df_test['blood protein']==1],\n",
    "                palette={0:'white', 1:'red'}, \n",
    "               legend=False)\n",
    "plt.savefig('figures/PCA_tissue_bloodproteins.pdf', dpi=120, bbox_inches='tight')"
   ]
  },
  {
   "cell_type": "markdown",
   "metadata": {},
   "source": [
    "#### Reviewer question: what are abundance ranks of the driver proteins in figure 2d?"
   ]
  },
  {
   "cell_type": "code",
   "execution_count": null,
   "metadata": {},
   "outputs": [],
   "source": [
    "blue_proteins = ['MYH11', 'DES', 'TPM', 'CNN1', 'LMOD1', 'COL21A1', 'FBLN', 'OGN', 'ELN', 'PRELP']\n",
    "red_proteins = ['MBL2', 'CYP4A11', 'CYP2E1', 'CYP2D6','CYP4F3', 'ALDH8A1', 'RDH16', 'UGT1A4', 'BHMT2']\n",
    "black_proteins = ['HIST2H3A', 'IGF2BP2', 'IGF2BP1', 'IGFBP3', 'TRIP13', 'HMGA2', 'CYR61' ]"
   ]
  },
  {
   "cell_type": "code",
   "execution_count": null,
   "metadata": {},
   "outputs": [],
   "source": [
    "a={i:'blue_vessels' for i in blue_proteins}\n",
    "a.update({i:'red_liver' for i in red_proteins})\n",
    "a.update({i:'black_celllines' for i in black_proteins})"
   ]
  },
  {
   "cell_type": "code",
   "execution_count": null,
   "metadata": {},
   "outputs": [],
   "source": [
    "df_tissues=pd.concat([df_PCA_t[a].median(axis=1) for a in [['HepA', 'PorV'], ['Cell_lines'], ['Liver']]], axis=1)\n",
    "df_tissues.columns=['vessels', 'cell lines', 'liver']\n",
    "for col in df_tissues.columns:\n",
    "    df_tissues=df_tissues.sort_values(by=col, ascending=False)\n",
    "    df_tissues=df_tissues.assign(new_col=np.arange(df_tissues.shape[0]))\n",
    "    df_tissues=df_tissues.rename({'new_col':'rank_{}'.format(col)}, axis=1)\n",
    "df_tissues['Gene name']=df_tissues.index.map(IDmapping_Perseus_UniprotAC_to_Genenames)\n",
    "df_tissues['color']=df_tissues['Gene name'].map(a)\n",
    "df_tissues_colored=df_tissues[df_tissues['color'].notnull()].sort_values(by=['color'], ascending=False)"
   ]
  },
  {
   "cell_type": "code",
   "execution_count": null,
   "metadata": {},
   "outputs": [],
   "source": [
    "df_tissues_colored.to_csv('results/tissue_pca_driving_proteins.csv')"
   ]
  },
  {
   "cell_type": "markdown",
   "metadata": {},
   "source": [
    "## Figure 3"
   ]
  },
  {
   "cell_type": "markdown",
   "metadata": {},
   "source": [
    "#### Venn between cell types"
   ]
  },
  {
   "cell_type": "code",
   "execution_count": null,
   "metadata": {},
   "outputs": [],
   "source": [
    "df = data_lfq_log10_median.copy()\n",
    "celltypes_grouped = ['hHEP', 'hHSC', 'hLSEC', 'hKC']\n",
    "df_cell = df[celltypes_grouped].dropna(how = 'all')"
   ]
  },
  {
   "cell_type": "code",
   "execution_count": null,
   "metadata": {},
   "outputs": [],
   "source": [
    "import src.venn as venn\n",
    "labels = venn.get_labels([df_cell[[i]].dropna().index for i in celltypes_grouped])\n",
    "names=['hKC', 'hHSC', 'hHEP', 'hLSEC']\n",
    "fig, ax = venn.venn4(labels, names=names, figsize= (3,3), fontsize = 8)"
   ]
  },
  {
   "cell_type": "markdown",
   "metadata": {},
   "source": [
    "#### Proteome similarity"
   ]
  },
  {
   "cell_type": "code",
   "execution_count": null,
   "metadata": {},
   "outputs": [],
   "source": [
    "data = data_lfq_log10_median.copy()\n",
    "cell_types = ['hHSC', 'hLSEC', 'hKC', 'hHEP']\n",
    "data = data[cell_types]"
   ]
  },
  {
   "cell_type": "code",
   "execution_count": null,
   "metadata": {},
   "outputs": [],
   "source": [
    "df=data_lfq_log10.copy()\n",
    "df['Gene name']=df.index.map(IDmapping_Perseus_UniprotAC_to_Genenames)"
   ]
  },
  {
   "cell_type": "code",
   "execution_count": null,
   "metadata": {},
   "outputs": [],
   "source": [
    "data_lfq_log10_median['Gene name']=data_lfq_log10_median.index.map(IDmapping_Perseus_UniprotAC_to_Genenames)"
   ]
  },
  {
   "cell_type": "code",
   "execution_count": null,
   "metadata": {},
   "outputs": [],
   "source": [
    "df2 = data_lfq_log10_median.copy()\n",
    "df2['Gene name'] = df2.index.map(IDmapping_Perseus_UniprotAC_to_Genenames)\n",
    "df2.sort_values(by='HepA', ascending = False, inplace= True)\n",
    "df2['rank'] = np.arange(df2.shape[0])"
   ]
  },
  {
   "cell_type": "code",
   "execution_count": null,
   "metadata": {},
   "outputs": [],
   "source": [
    "corr = data.corr()\n",
    "mask = np.triu(np.ones_like(corr, dtype=bool))\n",
    "e = np.array(data.corr())\n",
    "c = sns.clustermap(data = corr, mask = mask, figsize = (4,4), cmap = 'RdBu', vmin = 0, vmax = 1, linecolor = 'white', linewidth = 1.5, annot = e, square=True)\n",
    "plt.savefig('figures/figure3b.pdf', dpi=120, bbox_inches='tight')"
   ]
  },
  {
   "cell_type": "markdown",
   "metadata": {},
   "source": [
    "#### Cumulative abundance cell types"
   ]
  },
  {
   "cell_type": "code",
   "execution_count": null,
   "metadata": {},
   "outputs": [],
   "source": [
    "data = data_lfq_median.copy()\n",
    "df_new = pd.DataFrame(index = data.index)\n",
    "for column in data.columns:\n",
    "    sorted_column = data[[column]].sort_values(by = column, ascending = False)\n",
    "    cum_column = np.cumsum(sorted_column)    \n",
    "    df_new['cum_' + column] = cum_column/cum_column.max()"
   ]
  },
  {
   "cell_type": "code",
   "execution_count": null,
   "metadata": {},
   "outputs": [],
   "source": [
    "data = df_new\n",
    "fig, ax = plt.subplots(figsize = (12, 4), squeeze = False)\n",
    "plt.subplots_adjust(wspace = 0.35)\n",
    "j = 1\n",
    "for i in ['cum_hHEP', 'cum_hLSEC', 'cum_hKC', 'cum_hHSC']:\n",
    "    x = np.arange(data.shape[0])\n",
    "    y = data.sort_values(by = i)[i]\n",
    "    x0 = x[:10]\n",
    "    y0 = y[:10]\n",
    "    plt.subplot(1, 4, j)\n",
    "    plt.plot(x, y)\n",
    "    plt.plot(x0, y0, \"ro\")\n",
    "    plt.title(i.strip('cum_'))\n",
    "    plt.ylim(-0.05, 1.05)\n",
    "    plt.yticks([0, 0.25, 0.5, 0.75, 1])\n",
    "    plt.ylabel('Cumulative abundance [%]')\n",
    "    j += 1\n",
    "    annotations = calculate_quartile_numbers(data, i)\n",
    "    top10=data.sort_values(by=i).index[:10]\n",
    "    top10_gene = [IDmapping_Perseus_UniprotAC_to_Genenames[a] for a in top10][::-1]\n",
    "    for i in np.arange(10):\n",
    "        plt.text(x=1000, y=0.05+0.05*i, s= top10_gene[i])\n",
    "    for b in np.arange(1, 5):\n",
    "        plt.annotate(xy=(5200, 0.05*b), s= 'Q'+str(b)+':'+str(annotations[b]))\n",
    "plt.savefig(\"figures/Cumulative_celltypes.pdf\")"
   ]
  },
  {
   "cell_type": "markdown",
   "metadata": {},
   "source": [
    "#### Subcellular mass composition"
   ]
  },
  {
   "cell_type": "code",
   "execution_count": null,
   "metadata": {},
   "outputs": [],
   "source": [
    "sub_loc = pd.read_csv('annotations/HPA/subcellular_location.csv')\n",
    "sub_loc = sub_loc[sub_loc['Reliability']!='Uncertain']\n",
    "new_df = pd.DataFrame(sub_loc['GO id'].str.split(';').to_list(), index = sub_loc['Gene name']).stack()\n",
    "new_df = new_df.reset_index([0, 'Gene name'])\n",
    "new_df.columns = ['Gene name', 'GO id']\n",
    "new_df['Gene name'] = new_df['Gene name'].astype(str)\n",
    "sub_loc = new_df.copy()\n",
    "sub_loc = sub_loc.groupby(['GO id'])['Gene name'].apply(list).reset_index()\n",
    "pathway_location = dict(zip(sub_loc['GO id'], sub_loc['Gene name']))"
   ]
  },
  {
   "cell_type": "code",
   "execution_count": null,
   "metadata": {},
   "outputs": [],
   "source": [
    "data = data_lfq_median.copy()\n",
    "data['Gene name'] = data.index.map(IDmapping_Perseus_UniprotAC_to_Genenames)\n",
    "data = data.set_index('Gene name')\n",
    "unassigned = list(set(data.index) - set(new_df['Gene name']))\n",
    "pathway_location['unassigned'] = unassigned\n",
    "per_loc = calculate_pathway_percentage(pathway_dictionary=pathway_location, data = data).T\n",
    "#per_loc = per_loc.div(per_loc.sum(axis=1), axis=0).T"
   ]
  },
  {
   "cell_type": "code",
   "execution_count": null,
   "metadata": {},
   "outputs": [],
   "source": [
    "remaining = per_loc.sort_values(by = 'hHEP')[:16].index\n",
    "sum_remaining = per_loc.loc[remaining].sum()\n",
    "per_loc2 = per_loc.drop(labels = remaining)\n",
    "df = per_loc2.copy().T\n",
    "df['remaining'] = sum_remaining\n",
    "df = df.T.sort_values(by = 'hHEP', ascending = False)\n",
    "order = list(df.index[1:]) + ['unassigned']\n",
    "df = df.loc[order]\n",
    "df_nor = df.div(df.sum(axis=0), axis=1)\n",
    "#df.to_csv('datasets/subcellular mass composition before normalization.csv')\n",
    "#df_nor.to_csv('datasets/subcellular mass composition after normalization.csv')"
   ]
  },
  {
   "cell_type": "code",
   "execution_count": null,
   "metadata": {},
   "outputs": [],
   "source": [
    "x = df_nor.T\n",
    "ax=x.plot(kind='barh', stacked=True, figsize=(6,4), title='Subcellular mass composition', legend= False)\n",
    "ax.legend(bbox_to_anchor = [1, 1]);"
   ]
  },
  {
   "cell_type": "markdown",
   "metadata": {},
   "source": [
    "#### Subcellular co-localization "
   ]
  },
  {
   "cell_type": "code",
   "execution_count": null,
   "metadata": {},
   "outputs": [],
   "source": [
    "hv.extension('bokeh')\n",
    "%output size=100"
   ]
  },
  {
   "cell_type": "code",
   "execution_count": null,
   "metadata": {},
   "outputs": [],
   "source": [
    "GO=pd.read_csv('annotations/GO_colocalization.csv')['GO terms'].tolist()\n",
    "location_table=pd.DataFrame(list(it.combinations(GO, 2)))\n",
    "location_table.columns=['source', 'target']"
   ]
  },
  {
   "cell_type": "code",
   "execution_count": null,
   "metadata": {},
   "outputs": [],
   "source": [
    "data = data_lfq_median.copy()\n",
    "data['Gene name'] = data.index.map(IDmapping_Perseus_UniprotAC_to_Genenames)\n",
    "data = data.set_index('Gene name')\n",
    "hep_GNs = list(data[['hHEP']].dropna().index.unique())\n",
    "\n",
    "overlap=[]\n",
    "overlap_gene= []\n",
    "for index, row in location_table.iterrows():\n",
    "    source_GO=location_table.source.loc[index]\n",
    "    target_GO=location_table.target.loc[index]\n",
    "    genes_source = pathway_location[source_GO]\n",
    "    genes_target =pathway_location[target_GO]\n",
    "    overlap_genes = list(set(genes_source)&set(genes_target)&set(hep_GNs))\n",
    "    overlap.append(len(overlap_genes))\n",
    "    overlap_gene.append(overlap_genes)\n",
    "\n",
    "location_table['value'] = overlap\n",
    "location_table['overlapping_genes'] = overlap_gene"
   ]
  },
  {
   "cell_type": "code",
   "execution_count": null,
   "metadata": {},
   "outputs": [],
   "source": [
    "links=location_table[['source', 'target', 'value']]\n",
    "location_table.to_csv('datasets/colocalization.csv')\n",
    "chords = hv.Chord(links)\n",
    "chords"
   ]
  },
  {
   "cell_type": "markdown",
   "metadata": {},
   "source": [
    "## Figure S2"
   ]
  },
  {
   "cell_type": "markdown",
   "metadata": {},
   "source": [
    "#### Protein class composition"
   ]
  },
  {
   "cell_type": "code",
   "execution_count": null,
   "metadata": {},
   "outputs": [],
   "source": [
    "annotations_class = pd.read_csv('annotations/HPA/proteinClass.csv', usecols = ['protein class', 'protein list'])\n",
    "for i in np.arange(annotations_class.shape[0]):\n",
    "    content = annotations_class['protein list'].loc[i]\n",
    "    annotations_class['protein list'].loc[i] = ast.literal_eval(content)\n",
    "df = annotations_class\n",
    "dict_proteinClass = dict(zip(df['protein class'], df['protein list']))"
   ]
  },
  {
   "cell_type": "code",
   "execution_count": null,
   "metadata": {},
   "outputs": [],
   "source": [
    "data = data_lfq.copy()\n",
    "data['Gene name'] = data.index.map(IDmapping_Perseus_UniprotAC_to_Genenames)\n",
    "data = data.set_index('Gene name')\n",
    "per_proteinClass = calculate_pathway_percentage(dict_proteinClass, data)"
   ]
  },
  {
   "cell_type": "code",
   "execution_count": null,
   "metadata": {},
   "outputs": [],
   "source": [
    "df = per_proteinClass.reset_index()\n",
    "df_anova = df.melt(id_vars = 'Samples').set_index('Pathways')\n",
    "df_anova['grouping1'] = df_anova['Samples'].map(grouping1)"
   ]
  },
  {
   "cell_type": "code",
   "execution_count": null,
   "metadata": {},
   "outputs": [],
   "source": [
    "per_proteinClass_celltype= per_proteinClass.T.groupby(by = grouping1, axis = 1).median().round(3)[['hHEP', 'hKC', 'hLSEC', 'hHSC', 'Liver']]\n",
    "df = per_proteinClass_celltype.sort_values(by='Liver', ascending =False)\n",
    "df = df[['Liver', 'hHEP', 'hKC', 'hLSEC', 'hHSC']]\n",
    "annotation = df.copy()*100\n",
    "A = sns.clustermap(data = df, annot = np.array(annotation), linewidth = 0.1, row_cluster = False, col_cluster = False, figsize = (4,8), cmap = 'Blues', vmin = 0)\n",
    "plt.savefig('figures/S1.pdf', dpi=120, bbox_inches='tight')"
   ]
  },
  {
   "cell_type": "markdown",
   "metadata": {},
   "source": [
    "#### Mirochondria mass composition"
   ]
  },
  {
   "cell_type": "code",
   "execution_count": null,
   "metadata": {},
   "outputs": [],
   "source": [
    "resp_units = pd.read_csv('annotations/respiratory_subunits_core.csv')\n",
    "class_enzymes = pd.read_csv('annotations/HPA/Protein class/protein_class_Enzymes.csv', usecols = ['Gene', 'Reliability (IH)'])\n",
    "df = class_enzymes\n",
    "enzymes = df[df['Reliability (IH)'] != 'Uncertain']['Gene']\n",
    "Mitochondria = pathway_location['Mitochondria (GO:0005739)']\n",
    "MT_enzymes = list(set(Mitochondria) & set(enzymes))"
   ]
  },
  {
   "cell_type": "code",
   "execution_count": null,
   "metadata": {},
   "outputs": [],
   "source": [
    "total_SLCs=[i for i in list(IDmapping_Perseus_UniprotAC_to_Genenames.values()) if i.startswith('SLC')]\n",
    "SLC25=pd.read_csv('annotations/Mitochondrial_solute_carriers.csv')['Genename'].tolist()"
   ]
  },
  {
   "cell_type": "code",
   "execution_count": null,
   "metadata": {},
   "outputs": [],
   "source": [
    "MT_ribosome = ['MRPL1','MRPL10','MRPL11','MRPL12','MRPL14','MRPL19','MRPL2','MRPL20','MRPL21','MRPL22','MRPL23','MRPL28',\n",
    "               'MRPL36','MRPL37','MRPL38','MRPL40','MRPL41','MRPL42','MRPL43','MRPL44','MRPL45','MRPL46','MRPL47','MRPL51',\n",
    "               'MRPL52','MRPL54','MRPL57','MRPL58','MRPL9','MRPS10','MRPS11','MRPS14','MRPS15','MRPS16','MRPS18B','MRPS2',\n",
    "               'MRPS21','MRPS22','MRPS23','MRPS25','MRPS26','MRPS28','MRPS31','MRPS34','MRPS35','MRPS36','MRPS5','MRPS7',\n",
    "               'MRPS9']\n",
    "respiratory_chain = resp_units[resp_units['Complex']!='ATPase']['Gene name'].tolist()\n",
    "MTclass_dict = {'MT ribosomes' : MT_ribosome, 'SLC25': SLC25, 'MT enzymes' : MT_enzymes, 'Respiratory chain complex I-IV': respiratory_chain}\n",
    "for i in resp_units['Complex'].unique():\n",
    "    MTclass_dict[i] = list(resp_units[resp_units['Complex'] == i]['Gene name'])"
   ]
  },
  {
   "cell_type": "code",
   "execution_count": null,
   "metadata": {},
   "outputs": [],
   "source": [
    "data = data_lfq_median.copy()\n",
    "data['Gene name'] = data.index.map(IDmapping_Perseus_UniprotAC_to_Genenames)\n",
    "data_mito = data[data['Gene name'].isin(Mitochondria)].set_index('Gene name')\n",
    "per_mito = calculate_pathway_percentage(pathway_dictionary=MTclass_dict, data = data_mito).T.reset_index()\n",
    "per_mito = per_mito.melt(id_vars = 'Pathways')"
   ]
  },
  {
   "cell_type": "code",
   "execution_count": null,
   "metadata": {},
   "outputs": [],
   "source": [
    "data[data['Gene name'].isin(SLC25)].sum()[:-1] / data[data['Gene name'].isin(Mitochondria)].sum()[:-1] *100"
   ]
  },
  {
   "cell_type": "code",
   "execution_count": null,
   "metadata": {},
   "outputs": [],
   "source": [
    "df = per_mito\n",
    "fig, ax = plt.subplots(figsize = (4,4))\n",
    "plt.scatter(x = df['Samples'], y = df['Pathways'], s = df['value']*400, c = 'lightblue', edgecolor = 'black');"
   ]
  },
  {
   "cell_type": "code",
   "execution_count": null,
   "metadata": {},
   "outputs": [],
   "source": [
    "df_wide = df.pivot(index='Pathways', columns= 'Samples', values='value').round(3)\n",
    "df_wide = df_wide[['Liver', 'hHEP', 'hKC', 'hLSEC', 'hHSC']]\n",
    "df_wide=df_wide.sort_values(by='Liver', ascending=False)"
   ]
  },
  {
   "cell_type": "code",
   "execution_count": null,
   "metadata": {},
   "outputs": [],
   "source": [
    "df_wide.to_csv('results/mitochondrial_mass_composition.csv')"
   ]
  },
  {
   "cell_type": "code",
   "execution_count": null,
   "metadata": {},
   "outputs": [],
   "source": [
    "annotation = np.array(df_wide.round(3))*100\n",
    "sns.clustermap(data = df_wide, annot = np.array(annotation), linewidth = 0.1, row_cluster = False, col_cluster = False, figsize = (4,8), cmap = 'Blues', vmin = 0)\n",
    "plt.savefig('figures/MT_mass.pdf', dpi=120, bbox_inches='tight')"
   ]
  },
  {
   "cell_type": "markdown",
   "metadata": {},
   "source": [
    "## Figure 4"
   ]
  },
  {
   "cell_type": "markdown",
   "metadata": {},
   "source": [
    "#### Cell type uniquely detected proteins"
   ]
  },
  {
   "cell_type": "code",
   "execution_count": null,
   "metadata": {},
   "outputs": [],
   "source": [
    "data = data_lfq_log10.copy()[celltypes]\n",
    "vv = data.groupby(grouping1, axis =1).count()\n",
    "markers = []\n",
    "candidates= []\n",
    "for i in np.arange(vv.shape[0]):\n",
    "    item = vv.index[i]\n",
    "    if vv.loc[item].sum() == 3 & vv.loc[item].max() == 3:\n",
    "        markers.append(item)\n",
    "        candidates.append(item)\n",
    "    elif vv.loc[item].sum() ==2 & vv.loc[item].max() == 2:\n",
    "        candidates.append(item)"
   ]
  },
  {
   "cell_type": "code",
   "execution_count": null,
   "metadata": {},
   "outputs": [],
   "source": [
    "# Fisher exact test significant proteins (proteins that were uniquely detected in one cell type in at least 2/3 biological replicates)\n",
    "df_fisher_sig = vv.loc[candidates]\n",
    "for i in df_fisher_sig.columns:\n",
    "    print('Fisher exact sig proteins for {} is {}'.format(i, df_fisher_sig[df_fisher_sig[i]!=0].shape[0]))"
   ]
  },
  {
   "cell_type": "code",
   "execution_count": null,
   "metadata": {},
   "outputs": [],
   "source": [
    "df_m = data.loc[markers].groupby(grouping1, axis = 1).mean()\n",
    "top10 = []\n",
    "for col in df_m.columns:\n",
    "    top = df_m.nlargest(10, col).index\n",
    "    top10.extend(top)\n",
    "df_top = data.loc[top10]\n",
    "df_top = df_top.fillna(5)\n",
    "c=sns.clustermap(df_top, cmap= 'bwr', xticklabels=False, yticklabels=False,\n",
    "                col_cluster=False, row_cluster=False, linewidths=.6, figsize=(6,6), \n",
    "                 cbar_kws = dict(use_gridspec=False));\n",
    "plt.savefig('figures/celltype_unique.pdf', dpi=120, bbox_inches='tight')"
   ]
  },
  {
   "cell_type": "markdown",
   "metadata": {},
   "source": [
    "#### Protein copy number of cell type unique proteins"
   ]
  },
  {
   "cell_type": "code",
   "execution_count": null,
   "metadata": {},
   "outputs": [],
   "source": [
    "cell_types = labelfile[labelfile['Label3'].isin(['hHEP', 'hKC', 'hLSEC', 'hHSC'])]['Label4'].tolist()\n",
    "df1=data_cpno.copy().loc[markers][cell_types]\n",
    "df2=data_lfq.copy().loc[markers][cell_types]\n",
    "df1.columns=['LFQ intensity ' + i for i in df1.columns]\n",
    "df2.columns=['Protein copy number ' + i for i in df2.columns]\n",
    "df_new=df1.join(df2).sort_values(by =['LFQ intensity hHEP_D1', 'LFQ intensity hHSC_D1', 'LFQ intensity hKC_D1', 'LFQ intensity hLSEC_D1'])\n",
    "df_new['Gene name']=df_new.index.map(IDmapping_Perseus_UniprotAC_to_Genenames)\n",
    "df_new['Protein name']=df_new.index.map(IDmapping_Perseus_UniprotAC_to_Proteinnames)\n",
    "df_new.to_csv('results/cell type unique proteins.csv')"
   ]
  },
  {
   "cell_type": "markdown",
   "metadata": {},
   "source": [
    "#### Respiratory chain ratio between cell types modelling "
   ]
  },
  {
   "cell_type": "code",
   "execution_count": null,
   "metadata": {},
   "outputs": [],
   "source": [
    "data = data_cpno_median.copy()\n",
    "data['Gene name'] = data.index.map(IDmapping_Perseus_UniprotAC_to_Genenames)\n",
    "data_resp = data[data['Gene name'].isin(resp_units['Gene name'])]"
   ]
  },
  {
   "cell_type": "code",
   "execution_count": null,
   "metadata": {},
   "outputs": [],
   "source": [
    "data_resp_annotated = pd.merge(left=data_resp.reset_index(), right=resp_units[['Gene name', 'Complex', 'Protein name']], on='Gene name').set_index('Protein ID')"
   ]
  },
  {
   "cell_type": "code",
   "execution_count": null,
   "metadata": {},
   "outputs": [],
   "source": [
    "data_resp_annotated.to_csv('results/copynumber_resp_all.csv')"
   ]
  },
  {
   "cell_type": "code",
   "execution_count": null,
   "metadata": {},
   "outputs": [],
   "source": [
    "data_all = data_cpno.copy()\n",
    "data_all['Gene name'] = data_all.index.map(IDmapping_Perseus_UniprotAC_to_Genenames)\n",
    "data_all_OP = data_all[data_all['Gene name'].isin(resp_units['Gene name'])].drop('Gene name', axis=1)"
   ]
  },
  {
   "cell_type": "code",
   "execution_count": null,
   "metadata": {},
   "outputs": [],
   "source": [
    "df_new = pd.DataFrame(data_all_OP.sum(), columns=['summed'])\n",
    "df_new['group'] = df_new.index.map(dict(zip(labelfile['Label4'], labelfile['Label3'])))\n",
    "df_new['summed'] = np.log10(df_new['summed'])\n",
    "df_new=df_new[df_new['group'].isin(['Liver', 'hHEP', 'hKC', 'hLSEC', 'hHSC'])]\n",
    "\n",
    "average = df_new.groupby('group').mean()\n",
    "sd = df_new.groupby('group').std()"
   ]
  },
  {
   "cell_type": "code",
   "execution_count": null,
   "metadata": {},
   "outputs": [],
   "source": [
    "fig, ax=plt.subplots(figsize=(4,4))\n",
    "plt.bar(x=range(average.shape[0]), height=average['summed'], yerr=sd['summed'], width=0.6)\n",
    "plt.xticks(ticks=np.arange(average.shape[0]), labels=average.index)\n",
    "plt.savefig('figures/copynumber_fig.pdf')"
   ]
  },
  {
   "cell_type": "code",
   "execution_count": null,
   "metadata": {},
   "outputs": [],
   "source": [
    "df=data_resp\n",
    "df_new=df.dropna(subset=['hKC', 'hHEP'])\n",
    "x, y = df_new['hKC'], df_new['hHEP']\n",
    "x, y = np.log10(x), np.log10(y)"
   ]
  },
  {
   "cell_type": "code",
   "execution_count": null,
   "metadata": {},
   "outputs": [],
   "source": [
    "IDmapping_GeneName_to_OPComplex = dict(zip(resp_units['Gene name'], resp_units['Complex']))\n",
    "df_check = df.copy()\n",
    "df_check['Complex'] = df_check['Gene name'].map(IDmapping_GeneName_to_OPComplex)"
   ]
  },
  {
   "cell_type": "code",
   "execution_count": null,
   "metadata": {},
   "outputs": [],
   "source": [
    "df_atpase= df_check[df_check['Complex']=='ATPase'].sort_values(by='hHEP')\n",
    "df_complex4= df_check[df_check['Complex']=='Complex4'].sort_values(by='hHEP')\n",
    "df_complex1=df_check[df_check['Complex']=='Complex1'].sort_values(by='hHEP')\n",
    "df_complex2=df_check[df_check['Complex']=='Complex2'].sort_values(by='hHEP')\n",
    "df_complex3=df_check[df_check['Complex']=='Complex3'].sort_values(by='hHEP')"
   ]
  },
  {
   "cell_type": "code",
   "execution_count": null,
   "metadata": {},
   "outputs": [],
   "source": [
    "OP_sum = df_check.drop('Gene name', axis=1).groupby('Complex').sum()"
   ]
  },
  {
   "cell_type": "code",
   "execution_count": null,
   "metadata": {},
   "outputs": [],
   "source": [
    "OP_sum.to_csv('results/oxidative_phosphorylation_copynumbers.csv')"
   ]
  },
  {
   "cell_type": "code",
   "execution_count": null,
   "metadata": {},
   "outputs": [],
   "source": [
    "df = data_resp\n",
    "fig, (ax0, ax1, ax2) = plt.subplots(1, 3, figsize = (14.5, 4))\n",
    "plt.subplots_adjust(wspace = 0.35)\n",
    "cols = ['hKC', 'hHSC', 'hLSEC']\n",
    "i = 0\n",
    "for ax in [ax0, ax1, ax2]:\n",
    "    col = cols[i]\n",
    "    df_new = df.copy()\n",
    "    df_new = df_new.dropna(subset = [col, 'hHEP'])\n",
    "    x, y = df_new[col], df_new['hHEP']\n",
    "    x1, y1 = np.log10(x), np.log10(y)\n",
    "    ax.scatter(x1, y1, c = 'steelblue', edgecolors = 'white', s = 90)\n",
    "    ax.set_title('hHEP vs. {}'.format(col))\n",
    "    ax.set_ylabel('hHEP\\nProtein copy number [Log10]')\n",
    "    ax.set_xlabel('Protein copy number [Log10]\\n{}'.format(col))\n",
    "    i += 1  \n",
    "plt.savefig('figures/oxidative phosphorylation.pdf')"
   ]
  },
  {
   "cell_type": "markdown",
   "metadata": {},
   "source": [
    "#### Protein copy number fraction of Kegg pathway"
   ]
  },
  {
   "cell_type": "code",
   "execution_count": null,
   "metadata": {},
   "outputs": [],
   "source": [
    "data = data_cpno_median.copy()\n",
    "cols = ['Liver', 'hHEP', 'hLSEC', 'hHSC', 'hKC']\n",
    "data = data[cols]\n",
    "data['Gene name'] = data.index.map(IDmapping_Perseus_UniprotAC_to_Genenames)\n",
    "data = data.rename_axis('Samples', axis = 1)\n",
    "data = data.set_index('Gene name')\n",
    "kegg_frac = calculate_pathway_percentage(pathway_dictionary=pathway_dict, data = data)"
   ]
  },
  {
   "cell_type": "code",
   "execution_count": null,
   "metadata": {},
   "outputs": [],
   "source": [
    "df = data_lfq.copy()\n",
    "df['Gene name'] = df.index.map(IDmapping_Perseus_UniprotAC_to_Genenames)"
   ]
  },
  {
   "cell_type": "code",
   "execution_count": null,
   "metadata": {},
   "outputs": [],
   "source": [
    "histones = [i for i in df.index if IDmapping_Perseus_UniprotAC_to_Genenames[i].startswith('HIST')]"
   ]
  },
  {
   "cell_type": "code",
   "execution_count": null,
   "metadata": {},
   "outputs": [],
   "source": [
    "total_cpno = np.array(data.sum())"
   ]
  },
  {
   "cell_type": "code",
   "execution_count": null,
   "metadata": {},
   "outputs": [],
   "source": [
    "data.sum()"
   ]
  },
  {
   "cell_type": "code",
   "execution_count": null,
   "metadata": {},
   "outputs": [],
   "source": [
    "df_new = kegg_frac.T * total_cpno\n",
    "kegg_frac = df_new.T"
   ]
  },
  {
   "cell_type": "code",
   "execution_count": null,
   "metadata": {},
   "outputs": [],
   "source": [
    "df = kegg_frac.copy().T.sort_values(by = 'Liver', ascending = False)\n",
    "df_top10 = df.iloc[:10, :].reset_index()\n",
    "df_top10 = df_top10.melt(id_vars = 'Pathways')\n",
    "metabolic_genes = list(set(pathway_dict['Metabolic pathways']) & set(data.index))"
   ]
  },
  {
   "cell_type": "code",
   "execution_count": null,
   "metadata": {},
   "outputs": [],
   "source": [
    "df2 = data_cpno_log10.copy()\n",
    "df2['Gene name'] = df2.index.map(IDmapping_Perseus_UniprotAC_to_Genenames)\n",
    "df2 = df2.set_index('Gene name')\n",
    "df2 = df2.rename_axis('Samples', axis = 1)\n",
    "top10genes = data.loc[metabolic_genes].sort_values(by = 'hHEP', ascending = False).index[:10]\n",
    "df2 = df2.rename(mapper = dict(zip(labelfile['Label4'], labelfile['Label3'])), axis = 1)\n",
    "df2 = df2.loc[top10genes][cols].dropna()\n",
    "df2_long = df2.T.reset_index().melt(id_vars = 'Samples')"
   ]
  },
  {
   "cell_type": "code",
   "execution_count": null,
   "metadata": {},
   "outputs": [],
   "source": [
    "df = df_top10.copy()\n",
    "fig, axes = plt.subplots(1, 2, figsize = (9, 4))\n",
    "plt.subplots_adjust(wspace = 0.4)\n",
    "palette = sns.diverging_palette(10, 220, sep=80, n=5)\n",
    "sns.barplot(x='value', y='Pathways', hue='Samples', data=df, ax=axes[0], palette=palette, edgecolor='black')\n",
    "sns.boxplot(x ='value', y='Gene name', hue='Samples', data=df2_long, ax=axes[1], palette=palette)\n",
    "plt.savefig('figures/protein copy number kegg.pdf', bbox_inches='tight')"
   ]
  },
  {
   "cell_type": "markdown",
   "metadata": {},
   "source": [
    "## Figure 6"
   ]
  },
  {
   "cell_type": "markdown",
   "metadata": {},
   "source": [
    "#### Depth"
   ]
  },
  {
   "cell_type": "code",
   "execution_count": null,
   "metadata": {},
   "outputs": [],
   "source": [
    "data = data_pcc_raw.copy().astype(np.number)\n",
    "data.columns = data.columns.droplevel(0)\n",
    "grouping_pcc = dict(zip(labelfile_pcc['Sample ID'], labelfile_pcc['Label2']))"
   ]
  },
  {
   "cell_type": "code",
   "execution_count": null,
   "metadata": {},
   "outputs": [],
   "source": [
    "depth_pg = data.count().groupby(grouping_pcc).median()\n",
    "error = data.count().groupby(grouping_pcc).std().tolist()\n",
    "error.append(0)\n",
    "depth_pg['total'] = data.dropna(how='all').shape[0]\n",
    "fig, ax = plt.subplots(figsize = (4,4))\n",
    "plt.bar(x = depth_pg.index, height = depth_pg, width = 0.4, edgecolor= 'black', facecolor = 'steelblue', yerr = error)\n",
    "for i in np.arange(10):\n",
    "    plt.annotate(depth_pg.iloc[i], [depth_pg.index[i], depth_pg.iloc[i]])\n",
    "plt.ylabel('Protein groups')\n",
    "plt.xticks(rotation = 20)\n",
    "plt.title('Proteome depth');\n",
    "plt.savefig('figures/PCC/proteome_depth.pdf', dpi=120, bbox_inches='tight')"
   ]
  },
  {
   "cell_type": "markdown",
   "metadata": {},
   "source": [
    "#### Similarity"
   ]
  },
  {
   "cell_type": "code",
   "execution_count": null,
   "metadata": {},
   "outputs": [],
   "source": [
    "data = data_pcc_log2.copy().astype(np.number)\n",
    "data.columns = data.columns.droplevel(0)\n",
    "data = data.rename(mapper = grouping_pcc, axis=1)"
   ]
  },
  {
   "cell_type": "code",
   "execution_count": null,
   "metadata": {},
   "outputs": [],
   "source": [
    "df = data.corr()\n",
    "cols = df.columns.unique().tolist()\n",
    "combos = [i for i in it.combinations(cols,2)]\n",
    "values = {}\n",
    "for i in cols:\n",
    "    values[i] = df.loc[i, i].replace(1, np.nan).mean().mean().round(2)\n",
    "    \n",
    "for i in combos: \n",
    "    values[i] = df.loc[i[0], i[1]].replace(1, np.nan).mean().mean().round(2)"
   ]
  },
  {
   "cell_type": "code",
   "execution_count": null,
   "metadata": {},
   "outputs": [],
   "source": [
    "sns.clustermap(data = data.corr(), cmap='bwr', linewidth=.3, figsize=(4,4))\n",
    "plt.savefig('figures/PCC/cluster.pdf', dpi=120, bbox_inches='tight')"
   ]
  },
  {
   "cell_type": "markdown",
   "metadata": {},
   "source": [
    "#### PCA of all primary cell culture samples"
   ]
  },
  {
   "cell_type": "code",
   "execution_count": null,
   "metadata": {},
   "outputs": [],
   "source": [
    "data = data_pcc_log2_impute.copy()\n",
    "data.columns = data.columns.droplevel(0)"
   ]
  },
  {
   "cell_type": "code",
   "execution_count": null,
   "metadata": {},
   "outputs": [],
   "source": [
    "df_PCA = data.rename(mapper = grouping_pcc, axis = 1)\n",
    "df_PCA = df_PCA.rename_axis('Sample type', axis = 1)\n",
    "df = df_PCA.T.reset_index()\n",
    "features = df.columns[1:]"
   ]
  },
  {
   "cell_type": "code",
   "execution_count": null,
   "metadata": {},
   "outputs": [],
   "source": [
    "x=df.loc[:, features].values\n",
    "y=df.loc[:, 'Sample type'].values\n",
    "pca = PCA(n_components=2)\n",
    "principalComponents = pca.fit_transform(x)\n",
    "principalDf = pd.DataFrame(data = principalComponents\n",
    "             , columns = ['principal component 1', 'principal component 2'])\n",
    "finalDf = pd.concat([principalDf, df['Sample type']], axis = 1)\n",
    "PC1= pca.explained_variance_ratio_[0]\n",
    "PC2= pca.explained_variance_ratio_[1]\n",
    "PC1 = \"{:.1%}\".format(PC1)\n",
    "PC2 = \"{:.1%}\".format(PC2)"
   ]
  },
  {
   "cell_type": "code",
   "execution_count": null,
   "metadata": {},
   "outputs": [],
   "source": [
    "fig, ax = plt.subplots(figsize = (4,4))\n",
    "ax.set_xlabel('Principal Component 1 ('+ str(PC1) + ')')\n",
    "ax.set_ylabel('Principal Component 2 ('+ str(PC2) + ')')\n",
    "ax.set_title('Principal component analysis')\n",
    "\n",
    "targets = df['Sample type'].unique()\n",
    "for target in targets:\n",
    "    indicesToKeep = finalDf['Sample type'] == target\n",
    "    ax.scatter(finalDf.loc[indicesToKeep, 'principal component 1']\n",
    "               , finalDf.loc[indicesToKeep, 'principal component 2']\n",
    "               , cmap =  'set3'\n",
    "               , s = 80, edgecolors='black')\n",
    "ax.legend(targets, bbox_to_anchor = [1.05, 0.8], framealpha=0.1)\n",
    "ax.grid()\n",
    "plt.savefig('figures/PCC/PCA_all.pdf', dpi=120, bbox_inches='tight')"
   ]
  },
  {
   "cell_type": "markdown",
   "metadata": {},
   "source": [
    "#### Expression profiles"
   ]
  },
  {
   "cell_type": "code",
   "execution_count": null,
   "metadata": {},
   "outputs": [],
   "source": [
    "data = data_pcc_log2_impute.copy()['hHSC']\n",
    "data.columns = data.columns.map(mapper = grouping_pcc)"
   ]
  },
  {
   "cell_type": "code",
   "execution_count": null,
   "metadata": {},
   "outputs": [],
   "source": [
    "df_long = data.reset_index().melt(id_vars='Protein ID', value_name='Intensity', var_name='Cell type').set_index('Protein ID')\n",
    "df_long['Gene name'] = df_long.index.map(IDmapping_pcc_UniprotID_to_Genename)\n",
    "df_long = df_long.reset_index().set_index('Gene name')\n",
    "\n",
    "proteins_gf = ['IGFBP3', 'IGFBP4', 'IGFBP7', 'EGFR', 'FGF2', 'HGFAC', 'TGFBR1', 'TGFBR2', 'NRP1', 'NRP2', 'ENG']\n",
    "proteins_cirr = ['COL1A1', 'COL2A1', 'COL3A1', 'LOXL1', 'LOXL2', 'MMP2', 'MMP14', 'TIMP2', 'DPP4', 'ANPEP', ]\n",
    "\n",
    "df_gf = df_long.loc[proteins_gf].reset_index()\n",
    "df_cirr = df_long.loc[proteins_cirr].reset_index()"
   ]
  },
  {
   "cell_type": "code",
   "execution_count": null,
   "metadata": {},
   "outputs": [],
   "source": [
    "proteins_ecms=['ACTA2', 'COL1A1', 'COL2A1', 'COL3A1', 'LOXL2', 'LOXL4', 'MMP2', 'MMP14', 'TIMP2', 'DPP4', 'ANPEP']\n",
    "proteins_gf = ['EGFR', 'FGF2', 'HGFAC', 'TGFBR1', 'TGFBR2', 'IGFBP3', 'IGFBP4', 'IGFBP7']\n",
    "proteins_immune = ['IL6', 'C3', 'C4A', 'C5', 'C8B', 'VCAM1']\n",
    "proteins_ald = ['VCAM1', 'IGFBP7', 'IGFALS', 'LGALS3BP']\n",
    "proteins_all = proteins_ecms + proteins_gf + proteins_immune + proteins_ald\n",
    "proteins_apoptosis=['CASP8', 'HGF']"
   ]
  },
  {
   "cell_type": "code",
   "execution_count": null,
   "metadata": {},
   "outputs": [],
   "source": [
    "fold_changes = {}\n",
    "for protein in proteins_all:\n",
    "    d1 = df_long.loc[protein].groupby('Cell type').mean().loc['hHSC_D1']\n",
    "    d7 = df_long.loc[protein].groupby('Cell type').mean().loc['hHSC_D7']\n",
    "    fc = float(2**(d7-d1)-1)\n",
    "    fc = round(fc, 2)\n",
    "    fold_changes[protein]=fc"
   ]
  },
  {
   "cell_type": "code",
   "execution_count": null,
   "metadata": {},
   "outputs": [],
   "source": [
    "sns.set_context(\"notebook\", font_scale=1.4, rc={\"lines.linewidth\": 2})\n",
    "sns.set_style('ticks')\n",
    "for protein in proteins_apoptosis:\n",
    "    fig, ax=plt.subplots(figsize=(1.4,1.4))\n",
    "    sns.pointplot(data=df_long.loc[protein], x ='Cell type', y='Intensity', color='darkred', ci='sd').set_title(protein)\n",
    "    plt.xticks(ticks=[0, 1, 2], labels=['D1', 'D3', 'D7'])\n",
    "    plt.xlabel('')\n",
    "    ax.set_ylabel('')\n",
    "    #plt.savefig('figures/PCC/boxplot/HSC/{}.pdf'.format(protein), dpi=120, bbox_inches='tight')"
   ]
  },
  {
   "cell_type": "markdown",
   "metadata": {},
   "source": [
    "#### GO enrichment plot"
   ]
  },
  {
   "cell_type": "code",
   "execution_count": null,
   "metadata": {},
   "outputs": [],
   "source": [
    "df_hsc_up = pd.read_csv('datasets/PCC/GOresults/GO-Perseus/HSC-up-plot.txt', sep='\\t').set_index('Name').sort_values(by='P value [-Log10]', ascending=False)\n",
    "df_hep_down = pd.read_csv('datasets/PCC/GOresults/GO-Perseus/HEP-down_plot.txt', sep='\\t').set_index('Name').sort_values(by='P value [-Log10]', ascending=False)"
   ]
  },
  {
   "cell_type": "code",
   "execution_count": null,
   "metadata": {},
   "outputs": [],
   "source": [
    "sns.heatmap(df_hsc_up[['P value [-Log10]']], linewidth=0.6)\n",
    "plt.savefig('figures/PCC/GO/hsc_up.pdf', dpi=120, bbox_inches='tight')"
   ]
  },
  {
   "cell_type": "code",
   "execution_count": null,
   "metadata": {},
   "outputs": [],
   "source": [
    "sns.heatmap(df_hsc_up[['Enrichment']], linewidth=0.6)\n",
    "plt.savefig('figures/PCC/GO/hsc_up2.pdf', dpi=120, bbox_inches='tight')"
   ]
  },
  {
   "cell_type": "code",
   "execution_count": null,
   "metadata": {},
   "outputs": [],
   "source": [
    "sns.heatmap(df_hep_down[['P value [-Log10]']], linewidth=0.6)\n",
    "plt.savefig('figures/PCC/GO/hep_down.pdf', dpi=120, bbox_inches='tight')"
   ]
  },
  {
   "cell_type": "code",
   "execution_count": null,
   "metadata": {},
   "outputs": [],
   "source": [
    "sns.heatmap(df_hep_down[['Enrichment']], linewidth=0.6)\n",
    "plt.savefig('figures/PCC/GO/hep_down2.pdf', dpi=120, bbox_inches='tight')"
   ]
  },
  {
   "cell_type": "markdown",
   "metadata": {},
   "source": [
    "## Figure 7"
   ]
  },
  {
   "cell_type": "code",
   "execution_count": null,
   "metadata": {},
   "outputs": [],
   "source": [
    "from src.functions import ancova_pg, pairwisetukey_pg, homoscedasticity_pg, normality_pg"
   ]
  },
  {
   "cell_type": "code",
   "execution_count": null,
   "metadata": {},
   "outputs": [],
   "source": [
    "data=data_patients_long.copy().set_index('Protein ID').dropna()\n",
    "data['gender']=data['gender'].replace({'m':1, 'f':0})\n",
    "data=data.rename({'Intensity [Log2]':'Intensity'}, axis=1)"
   ]
  },
  {
   "cell_type": "markdown",
   "metadata": {},
   "source": [
    "#### Homoscedasiticity test"
   ]
  },
  {
   "cell_type": "code",
   "execution_count": null,
   "metadata": {},
   "outputs": [],
   "source": [
    "homoscedasticity_results = homoscedasticity_pg(data=data, dv='Intensity', group='grouping')"
   ]
  },
  {
   "cell_type": "code",
   "execution_count": null,
   "metadata": {},
   "outputs": [],
   "source": [
    "homoscedasticity_results['equal_var'].value_counts(1)"
   ]
  },
  {
   "cell_type": "markdown",
   "metadata": {},
   "source": [
    "#### Normality test"
   ]
  },
  {
   "cell_type": "code",
   "execution_count": null,
   "metadata": {},
   "outputs": [],
   "source": [
    "normality_results = normality_pg(data=data, dv='Intensity', group='grouping')"
   ]
  },
  {
   "cell_type": "code",
   "execution_count": null,
   "metadata": {
    "tags": []
   },
   "outputs": [],
   "source": [
    "normality_results['normal'].value_counts(1)"
   ]
  },
  {
   "cell_type": "markdown",
   "metadata": {},
   "source": [
    "#### ANCOVA"
   ]
  },
  {
   "cell_type": "code",
   "execution_count": null,
   "metadata": {},
   "outputs": [],
   "source": [
    "ancova_results_bmi = ancova_pg(data=data, dv='Intensity', covar=['BMI'], between='grouping')\n",
    "ancova_results_age_sex_bmi = ancova_pg(data=data, dv='Intensity', covar=['age', 'gender', 'BMI'], between='grouping')"
   ]
  },
  {
   "cell_type": "code",
   "execution_count": null,
   "metadata": {},
   "outputs": [],
   "source": [
    "print('significant proteins in ancova after correcting for bmi: {}'.format(ancova_results_bmi[ancova_results_bmi.rejected].shape[0])) \n",
    "print('significant proteins in ancova after correcting for age, sex and bmi: {}'.format(ancova_results_age_sex_bmi[ancova_results_age_sex_bmi.rejected].shape[0])) "
   ]
  },
  {
   "cell_type": "code",
   "execution_count": null,
   "metadata": {},
   "outputs": [],
   "source": [
    "ancova_results = ancova_pg(data=data, dv='Intensity', covar=['age', 'gender'], between='grouping')"
   ]
  },
  {
   "cell_type": "code",
   "execution_count": null,
   "metadata": {},
   "outputs": [],
   "source": [
    "sig_proteins_ancova=ancova_results[(ancova_results.rejected) & (ancova_results['Source']=='grouping')]\n",
    "sig_proteins_ancova['Gene name']=sig_proteins_ancova['protein'].map(IDmapping_patients_UniprotID_to_GeneName)\n",
    "sig_proteins_ancova=sig_proteins_ancova.rename({'protein':'Protein ID'}, axis=1)"
   ]
  },
  {
   "cell_type": "code",
   "execution_count": null,
   "metadata": {},
   "outputs": [],
   "source": [
    "sig_proteins_ancova.to_csv('results/patients_ancova_sigproteins.csv')"
   ]
  },
  {
   "cell_type": "markdown",
   "metadata": {},
   "source": [
    "#### Tukey_HSD"
   ]
  },
  {
   "cell_type": "code",
   "execution_count": null,
   "metadata": {},
   "outputs": [],
   "source": [
    "data_tukey = data.loc[sig_proteins_ancova['Protein ID'].tolist()]\n",
    "tukey_results = pairwisetukey_pg(data=data_tukey, dv='Intensity', between ='grouping')"
   ]
  },
  {
   "cell_type": "code",
   "execution_count": null,
   "metadata": {},
   "outputs": [],
   "source": [
    "sig_proteins = sig_proteins_ancova"
   ]
  },
  {
   "cell_type": "code",
   "execution_count": null,
   "metadata": {},
   "outputs": [],
   "source": [
    "df_heatmap = data_patients_long.groupby(['Protein ID', 'grouping']).mean()['Intensity [Log2]'].unstack().loc[sig_proteins_ancova['Protein ID']]\n",
    "df_heatmap = df_heatmap.reindex(columns=['control', 'NASH', 'Cirrhosis'])"
   ]
  },
  {
   "cell_type": "code",
   "execution_count": null,
   "metadata": {},
   "outputs": [],
   "source": [
    "df_heatmap_export = df_heatmap.assign(GeneName=df_heatmap.index.map(IDmapping_patients_UniprotID_to_GeneName))\n",
    "df_heatmap_export.to_csv('datasets/Patients/PatientSamples_ANCOVA_sigproteins.csv')"
   ]
  },
  {
   "cell_type": "markdown",
   "metadata": {},
   "source": [
    "#### Reviewer question: among proteins that are significantly upregulated in liver biopsies of patients with liver cirrhosis, are there any specific to HepA or PorV?"
   ]
  },
  {
   "cell_type": "code",
   "execution_count": null,
   "metadata": {},
   "outputs": [],
   "source": [
    "#overlap with proteins specific to hepA or PortV?\n",
    "overlap_ids = set(sig_proteins['Protein ID']) & set(unique_in_vessels_proteinids)\n",
    "overlap_ids = set(sig_proteins['Protein ID']) & set(unique_in_eithervessel_proteinids)\n",
    "\n",
    "[IDmapping_Perseus_UniprotAC_to_Genenames[i] for i in overlap_ids]"
   ]
  },
  {
   "cell_type": "markdown",
   "metadata": {},
   "source": [
    "#### Abundance profile of CYP450 family members"
   ]
  },
  {
   "cell_type": "code",
   "execution_count": null,
   "metadata": {},
   "outputs": [],
   "source": [
    "proteins_pts = ['PDGFRA', 'PDGFRB', 'TGFB1', 'TGFB1I1', 'TGFBI', 'LTBP1','LTBP2', 'LTBP4', 'ENG']\n",
    "proteins_cyps_sig = ['CYP7B1', 'CYP11B1', 'CYP3A7', 'CYP3A4', \n",
    "                    'CYP4F3', 'CYP8B1', 'CYP1A2', 'CYP4A11', \n",
    "                    'CYP4F11', 'CYP4F2', 'CYP2C8', 'CYP27A1', \n",
    "                    'CYP2D6', 'CYP2C18', 'CYP5A1']\n",
    "\n",
    "proteins_cyps_sig_ancova = set(sig_proteins['Gene name']) & set(proteins_cyps_sig)\n",
    "proteins_pts_sig_ancova = set(sig_proteins['Gene name']) & set(proteins_pts)"
   ]
  },
  {
   "cell_type": "code",
   "execution_count": null,
   "metadata": {},
   "outputs": [],
   "source": [
    "data = data_patients_long.set_index('Gene name')\n",
    "df_cyp=data.loc[proteins_cyps_sig_ancova].reset_index().groupby(['Gene name', 'grouping']).mean().unstack('grouping')['Intensity [Log2]']\n",
    "df_cyp=df_cyp.reindex(columns=['control', 'NASH', 'Cirrhosis'])"
   ]
  },
  {
   "cell_type": "code",
   "execution_count": null,
   "metadata": {},
   "outputs": [],
   "source": [
    "sns.clustermap(data=df_cyp, z_score=0, cmap='bwr', col_cluster=False, \n",
    "              linecolor='white', linewidth=2, figsize=(3,5), yticklabels=True, xticklabels=False)\n",
    "plt.savefig('figures/Patients/heatmap/cyp450.pdf', dpi=120, bbox_inches='tight')"
   ]
  },
  {
   "cell_type": "markdown",
   "metadata": {},
   "source": [
    "#### Abundance profile of growth factors"
   ]
  },
  {
   "cell_type": "code",
   "execution_count": null,
   "metadata": {},
   "outputs": [],
   "source": [
    "sns.set_context(\"notebook\", font_scale=1.4, rc={\"lines.linewidth\": 2})\n",
    "sns.set_style('ticks')\n",
    "for protein in proteins_pts:\n",
    "    fig, ax=plt.subplots(figsize=(1.4,1.4))\n",
    "    sns.boxplot(data=data.loc[protein], x ='grouping', y='Intensity [Log2]', \n",
    "                width=0.6, order=['control', 'NASH', 'Cirrhosis'], color='white', linewidth=1).set_title(protein)\n",
    "    plt.xticks(ticks=[0, 1, 2], labels=[''], rotation=30)\n",
    "    plt.xlabel('')\n",
    "    plt.ylabel('')\n",
    "    ymin, ymax = plt.ylim()\n",
    "    plt.ylim(ymin*0.9, ymax*1.05)\n",
    "    for _,s in ax.spines.items():\n",
    "        s.set_linewidth(1)\n",
    "        s.set_color('black')\n",
    "    for i,box in enumerate(ax.artists):\n",
    "        box.set_edgecolor('black')\n",
    "        box.set_facecolor('white')\n",
    "\n",
    "    # iterate over whiskers and median lines\n",
    "        for j in range(6*i,6*(i+1)):\n",
    "             ax.lines[j].set_color('black')\n",
    "    plt.savefig('figures/Patients/boxplot/{}.pdf'.format(protein), dpi=120, bbox_inches='tight')"
   ]
  },
  {
   "cell_type": "markdown",
   "metadata": {},
   "source": [
    "#### Significantly enriched GO terms"
   ]
  },
  {
   "cell_type": "code",
   "execution_count": null,
   "metadata": {},
   "outputs": [],
   "source": [
    "patient_go = pd.read_csv('datasets/Patients/Patients_GO_toplot_ANCOVA.csv').set_index('Name')\n",
    "patient_go_up = patient_go[patient_go['regulation']=='up'].sort_values(by='FDR [-Log 10]', ascending=False)\n",
    "patient_go_down = patient_go[patient_go['regulation']=='down'].sort_values(by='FDR [-Log 10]', ascending=False)"
   ]
  },
  {
   "cell_type": "code",
   "execution_count": null,
   "metadata": {},
   "outputs": [],
   "source": [
    "for i in patient_go_up.index:\n",
    "    print(i)"
   ]
  },
  {
   "cell_type": "code",
   "execution_count": null,
   "metadata": {},
   "outputs": [],
   "source": [
    "sns.heatmap(patient_go_up[['Fold Enrichment']], linewidth=0.6)\n",
    "plt.savefig('figures/Patients/go/up_fc.pdf', dpi=120, bbox_inches='tight')"
   ]
  },
  {
   "cell_type": "code",
   "execution_count": null,
   "metadata": {},
   "outputs": [],
   "source": [
    "sns.heatmap(patient_go_up[['FDR [-Log 10]']], linewidth=0.6)\n",
    "plt.savefig('figures/Patients/go/up_pvalue.pdf', dpi=120, bbox_inches='tight')"
   ]
  },
  {
   "cell_type": "code",
   "execution_count": null,
   "metadata": {},
   "outputs": [],
   "source": [
    "sns.heatmap(patient_go_down[['Fold Enrichment']], linewidth=0.6)\n",
    "plt.savefig('figures/Patients/go/down_fc.pdf', dpi=120, bbox_inches='tight')"
   ]
  },
  {
   "cell_type": "code",
   "execution_count": null,
   "metadata": {},
   "outputs": [],
   "source": [
    "sns.heatmap(patient_go_down[['FDR [-Log 10]']], linewidth=0.6)\n",
    "plt.savefig('figures/Patients/go/down_pvalue.pdf', dpi=120, bbox_inches='tight')"
   ]
  },
  {
   "cell_type": "markdown",
   "metadata": {},
   "source": [
    "## Figure EV3"
   ]
  },
  {
   "cell_type": "markdown",
   "metadata": {},
   "source": [
    "#### Protein copy number vs. molecular weight"
   ]
  },
  {
   "cell_type": "code",
   "execution_count": null,
   "metadata": {},
   "outputs": [],
   "source": [
    "data = data_cpno_median.copy()\n",
    "data['Mol. weight [kDa]'] = data.index.map(dict(zip(MW['Protein ID'], MW['Mol. weight [kDa]'])))\n",
    "data = data.dropna(subset = ['hHEP'])\n",
    "x = np.log10(data['Mol. weight [kDa]'])\n",
    "y = np.log10(data['hHEP'])\n",
    "\n",
    "plt.figure(1, figsize=(4, 4))\n",
    "axScatter = plt.axes([0.1, 0.1, 0.65, 0.65])\n",
    "axHistx = plt.axes([0.8, 0.1, 0.12, 0.65])\n",
    "axHisty = plt.axes([0.1, 0.8, 0.65, 0.12])\n",
    "axScatter.scatter(x, y, c='steelblue', edgecolors='white')\n",
    "axScatter.set_ylabel('Copy number [log10]')\n",
    "axScatter.set_xlabel('Mol. weight [Da] [log10]')\n",
    "axScatter.set_xlim(3, 7)\n",
    "axScatter.set_ylim(2, 9)\n",
    "axHisty.hist(x, color='steelblue', alpha = 0.5, edgecolor = 'black', bins=40, label='Mol. weight [Da]')\n",
    "axHisty.set_xlim(3,7)\n",
    "axHisty.set_xticks(range(3,8))\n",
    "axHistx.hist(y, color='steelblue', alpha = 0.5, bins=40, range=(2, 9),edgecolor = 'black', orientation='horizontal', label='Copy number')\n",
    "axHistx.set_ylim(2,9);"
   ]
  },
  {
   "cell_type": "markdown",
   "metadata": {},
   "source": [
    "#### Estimated total cellular protein content"
   ]
  },
  {
   "cell_type": "code",
   "execution_count": null,
   "metadata": {},
   "outputs": [],
   "source": [
    "total_protein_percell = pd.read_csv(Copynumber_overview, sep='\\t')[1:]\n",
    "col_to_keep = ['Total protein [pg/cell]', 'Histone mass [pg/cell]', 'Total molecules per cell', 'Ploidy', 'Sample']\n",
    "total_protein = total_protein_percell[col_to_keep].merge(labelfile[['Sample', 'Label3']], on = 'Sample')\n",
    "for i in col_to_keep[:3]:\n",
    "    total_protein[i] = total_protein[i].astype(np.number)\n",
    "stats = total_protein.groupby(['Label3']).describe()"
   ]
  },
  {
   "cell_type": "code",
   "execution_count": null,
   "metadata": {},
   "outputs": [],
   "source": [
    "fig, (ax1, ax2) = plt.subplots(1, 2, figsize = (8, 4))\n",
    "plt.subplots_adjust(wspace = 0.3)\n",
    "col = 'Total protein [pg/cell]'\n",
    "x = stats.index\n",
    "y = stats[col]['mean']\n",
    "error = stats[col]['std']\n",
    "ax1.bar(x = x, height = y, yerr = error, edgecolor= 'white', facecolor = 'steelblue', \n",
    "        error_kw=dict(ecolor='gray', capsize=4))\n",
    "ax1.set_xticklabels(labels = x, rotation = 45)\n",
    "ax1.set_ylabel('Total protein per cell (pg)')\n",
    "\n",
    "col = 'Total molecules per cell'\n",
    "y = stats[col]['mean']\n",
    "error = stats[col]['std']\n",
    "ax2.bar(x = x, height = y, yerr = error, edgecolor = 'white', facecolor = 'steelblue', \n",
    "       error_kw=dict(ecolor='gray', capsize=4))\n",
    "ax2.set_xticklabels(labels = x, rotation = 45)\n",
    "ax2.set_ylabel('Total protein copy number per cell (1x 1e10)');"
   ]
  },
  {
   "cell_type": "markdown",
   "metadata": {},
   "source": [
    "#### Proteins of similar abundance profile to uncharacterized protein H0YL77"
   ]
  },
  {
   "cell_type": "code",
   "execution_count": null,
   "metadata": {},
   "outputs": [],
   "source": [
    "df_test = data_lfq.T.dropna(subset=['H0YL77'])\n",
    "df_test1 = df_test.T.dropna().T\n",
    "corr_to_h0yl77 = pg.pairwise_corr(data=df_test1, columns=['H0YL77']).sort_values(by='r', ascending = False)\n",
    "\n",
    "np.log10(df_test[['Q9GZY8-2', 'H0YL77']]).plot()\n",
    "plt.title('Uncharacterized protein in hHEP')\n",
    "plt.ylabel('LFQ intensity [Log10]')"
   ]
  },
  {
   "cell_type": "code",
   "execution_count": null,
   "metadata": {},
   "outputs": [],
   "source": [
    "corr_to_h0yl77.to_csv('results/correlation_to_h0yl77.csv')"
   ]
  },
  {
   "cell_type": "markdown",
   "metadata": {},
   "source": [
    "#### Protein copy number in SNPs and drug targets"
   ]
  },
  {
   "cell_type": "code",
   "execution_count": null,
   "metadata": {},
   "outputs": [],
   "source": [
    "df=data_cpno_median.copy()\n",
    "df['Gene name']=df.index.map(IDmapping_Perseus_UniprotAC_to_Genenames)\n",
    "targets=pd.read_csv('annotations/copynumber_gf_snps.csv')['gf and snps'].tolist()\n",
    "AA = df[df['Gene name'].isin(targets)][['Liver', 'hHEP', 'hLSEC', 'hKC', 'hHSC', 'Gene name']].dropna(subset=['hHSC'])\n",
    "AA.to_csv('results/copynumber_snps_drugtargets.csv')"
   ]
  },
  {
   "cell_type": "markdown",
   "metadata": {},
   "source": [
    "## Figure EV1"
   ]
  },
  {
   "cell_type": "code",
   "execution_count": null,
   "metadata": {},
   "outputs": [],
   "source": [
    "data_para = extract_Parameters(ProteinGroups)\n",
    "proteins_use = data_lfq.index\n",
    "data_para = data_para.loc[proteins_use]"
   ]
  },
  {
   "cell_type": "code",
   "execution_count": null,
   "metadata": {},
   "outputs": [],
   "source": [
    "df = data_para.copy()\n",
    "SequenceCoverage_Cols = [col for col in df if col.startswith('Sequence coverage')]\n",
    "Uniquepeptide_Cols = [col for col in df if col.startswith('Unique peptides')]\n",
    "Peptide_Cols = [col for col in df if col.startswith('Peptides')]\n",
    "df_seqcov = df[SequenceCoverage_Cols]\n",
    "df_uniquepeptides = df[Uniquepeptide_Cols]\n",
    "df_peptides=df[Peptide_Cols]\n",
    "\n",
    "cols = list(df_seqcov.columns)\n",
    "new_cols = [col.split(' ')[2] for col in cols]\n",
    "new_cols[0] = 'total'\n",
    "for df in [df_seqcov, df_uniquepeptides, df_peptides]:\n",
    "    df.columns = new_cols"
   ]
  },
  {
   "cell_type": "code",
   "execution_count": null,
   "metadata": {},
   "outputs": [],
   "source": [
    "grouping2 = dict(zip(labelfile.Sample, labelfile.Label3))\n",
    "grouping2['total'] = 'total'\n",
    "df_seqcov_median = df_seqcov.groupby(grouping2, axis = 1).median()\n",
    "df_peptides_median = df_peptides.groupby(grouping2, axis = 1).median()\n",
    "df_uniquepeptides_median = df_uniquepeptides.groupby(grouping2, axis=1).median()"
   ]
  },
  {
   "cell_type": "code",
   "execution_count": null,
   "metadata": {},
   "outputs": [],
   "source": [
    "df_seqcov_median_long = df_seqcov_median.reset_index().melt(id_vars=['Protein ID'],value_name='sequence coverage', var_name='sample type')\n",
    "df_peptides_median_long = df_peptides_median.reset_index().melt(id_vars=['Protein ID'], value_name='Peptides per protein', var_name='sample type')"
   ]
  },
  {
   "cell_type": "markdown",
   "metadata": {},
   "source": [
    "#### Sequence coverage across sample types"
   ]
  },
  {
   "cell_type": "code",
   "execution_count": null,
   "metadata": {},
   "outputs": [],
   "source": [
    "fig, ax = plt.subplots(figsize=(6,6))\n",
    "sns.boxplot(x='sample type', y ='sequence coverage', data=df_seqcov_median_long, \n",
    "            color='lightblue', width=0.6, linewidth=1)\n",
    "plt.xticks(rotation=30)\n",
    "plt.yticks(fontsize=15)\n",
    "plt.ylim(-5, 105)\n",
    "plt.ylabel('Sequence coverage [%]', fontsize=15)\n",
    "plt.title('Sequence coverage', fontsize=20)\n",
    "plt.savefig('figures/FigureEV1_a.pdf', bbox_inches='tight', dpi=120)"
   ]
  },
  {
   "cell_type": "code",
   "execution_count": null,
   "metadata": {},
   "outputs": [],
   "source": [
    "fig, ax=plt.subplots(figsize=(2,6))\n",
    "plt.hist(df_seqcov_median['total'], orientation='horizontal', color='lightblue', edgecolor='black', range=(-5, 105), bins=30)\n",
    "plt.xticks(fontsize=15)\n",
    "plt.yticks(fontsize=15)\n",
    "plt.title('Distribution', fontsize=20)\n",
    "plt.savefig('figures/FigureEV1_b.pdf', bbox_inches='tight', dpi=120)"
   ]
  },
  {
   "cell_type": "markdown",
   "metadata": {},
   "source": [
    "#### Identified peptides per protein group across sample types"
   ]
  },
  {
   "cell_type": "code",
   "execution_count": null,
   "metadata": {},
   "outputs": [],
   "source": [
    "fig, ax = plt.subplots(figsize=(6,6))\n",
    "sns.boxplot(x='sample type', y ='Peptides per protein', data=df_peptides_median_long, \n",
    "            color='lightblue', width=0.6, linewidth=1)\n",
    "plt.xticks(rotation=30)\n",
    "plt.yticks(fontsize=15)\n",
    "plt.ylabel('Peptides per PG', fontsize=15)\n",
    "plt.title('Peptides per protein group', fontsize=20)\n",
    "plt.savefig('figures/FigureEV1_c.pdf', bbox_inches='tight', dpi=120)"
   ]
  },
  {
   "cell_type": "code",
   "execution_count": null,
   "metadata": {},
   "outputs": [],
   "source": [
    "fig, ax=plt.subplots(figsize=(2,6))\n",
    "plt.hist(df_peptides_median['total'], orientation='horizontal', color='lightblue', \n",
    "         edgecolor='black', range=(-5, 105), bins=50)\n",
    "plt.xticks(fontsize=15)\n",
    "plt.yticks(fontsize=15)\n",
    "plt.title('Distribution', fontsize=20)\n",
    "plt.savefig('figures/FigureEV1_d.pdf', bbox_inches='tight', dpi=120)"
   ]
  },
  {
   "cell_type": "markdown",
   "metadata": {},
   "source": [
    "#### Dataset summary for the webpage"
   ]
  },
  {
   "cell_type": "code",
   "execution_count": null,
   "metadata": {},
   "outputs": [],
   "source": [
    "data_summary = pd.DataFrame(index = data_lfq.index)\n",
    "data_summary['Gene name'] = data_summary.index.map(IDmapping_Perseus_UniprotAC_to_Genenames)\n",
    "data_summary['Protein name'] = data_summary.index.map(IDmapping_Perseus_UniprotAC_to_Proteinnames)\n",
    "data_summary['Genename_ProteinID'] = data_summary.index.map(IDmapping_Perseus_UniprotAC_to_Genename_UniID)\n",
    "data_summary['Mol. weight [Da]'] = data_summary.index.map(dict(zip(MW['Protein ID'], MW['Mol. weight [kDa]'])))\n",
    "data_summary['Sequence coverage [%]'] = df_seqcov_median['total']\n",
    "data_summary['Peptides per protein'] = df_peptides_median['total']\n",
    "data_summary['Unique peptides per protein'] = df_uniquepeptides['total']"
   ]
  },
  {
   "cell_type": "code",
   "execution_count": null,
   "metadata": {},
   "outputs": [],
   "source": [
    "data_summary.reset_index().to_csv('datasets/Atlas/data_summary.csv', index= False)"
   ]
  },
  {
   "cell_type": "markdown",
   "metadata": {},
   "source": [
    "#### Peptides information for the webpage"
   ]
  },
  {
   "cell_type": "code",
   "execution_count": null,
   "metadata": {},
   "outputs": [],
   "source": [
    "peptide = pd.read_csv('datasets/Atlas/peptides.txt', sep = '\\t', low_memory = False)\n",
    "peptide = peptide[peptide['Reverse']!='+']"
   ]
  },
  {
   "cell_type": "code",
   "execution_count": null,
   "metadata": {},
   "outputs": [],
   "source": [
    "use_cols = ['Sequence', 'Length', 'Mass', 'Proteins', 'Leading razor protein', 'Unique (Groups)', 'Unique (Proteins)', 'Score', 'MS/MS Count', 'Intensity']\n",
    "data_peptide = peptide[use_cols]\n",
    "data_peptide = data_peptide.set_index('Leading razor protein')\n",
    "data_peptide['Genename_ProteinID'] = data_peptide.index.map(IDmapping_Perseus_UniprotAC_to_Genename_UniID)\n",
    "data_peptide = data_peptide.reset_index()\n",
    "new_order = ['Sequence', 'Length', 'Mass', 'Score', 'Intensity', 'MS/MS Count', 'Genename_ProteinID', 'Proteins',  'Unique (Groups)', 'Unique (Proteins)']\n",
    "data_peptide = data_peptide[new_order]\n",
    "data_peptide['Score'] = data_peptide['Score'].round()\n",
    "data_peptide.to_csv('datasets/data_peptide.csv', index = False)"
   ]
  }
 ],
 "metadata": {
  "kernelspec": {
   "display_name": "Python 3",
   "language": "python",
   "name": "python3"
  },
  "language_info": {
   "codemirror_mode": {
    "name": "ipython",
    "version": 3
   },
   "file_extension": ".py",
   "mimetype": "text/x-python",
   "name": "python",
   "nbconvert_exporter": "python",
   "pygments_lexer": "ipython3",
   "version": "3.7.11"
  }
 },
 "nbformat": 4,
 "nbformat_minor": 4
}
